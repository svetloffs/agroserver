{
 "cells": [
  {
   "cell_type": "code",
   "execution_count": null,
   "metadata": {},
   "outputs": [],
   "source": [
    "# !pip install lxml requests beautifulsoup4"
   ]
  },
  {
   "cell_type": "code",
   "execution_count": 2,
   "metadata": {},
   "outputs": [],
   "source": [
    "import requests\n",
    "from bs4 import BeautifulSoup, SoupStrainer\n",
    "from tqdm import tqdm\n",
    "import os"
   ]
  },
  {
   "cell_type": "code",
   "execution_count": null,
   "metadata": {},
   "outputs": [],
   "source": [
    "# url = 'https://nomads.ncep.noaa.gov/pub/data/nccf/com/gfs/prod/'\n",
    "url = \"https://agroserver.ru/spros/agro/\""
   ]
  },
  {
   "cell_type": "code",
   "execution_count": 3,
   "metadata": {},
   "outputs": [
    {
     "name": "stdout",
     "output_type": "stream",
     "text": [
      "Status code==200\n"
     ]
    }
   ],
   "source": [
    "def get_files_grib(url=None):\n",
    "    if url == None:\n",
    "        url = \"https://agroserver.ru/spros/agro/\"\n",
    "    response = requests.get(url)\n",
    "    if response.status_code == 200:\n",
    "        print(f\"Status code=={response.status_code}\")\n",
    "        soup = BeautifulSoup(response.text, 'lxml')\n",
    "        return soup\n",
    "    else:\n",
    "        return None\n",
    "soup = get_files_grib()"
   ]
  },
  {
   "cell_type": "code",
   "execution_count": null,
   "metadata": {},
   "outputs": [],
   "source": [
    "\n",
    "links_grib = []\n",
    "for link in soup.find_all('a', href=True):\n",
    "    # print(link['href'])\n",
    "    if str(link).count('gfs')>0:\n",
    "        links_grib.append(url + str(link['href']))\n",
    "links_grib = links_grib[-2:-1]\n",
    "links_grib = [links_grib[0] + i + '/atmos/' for i in ['00', '06', '12', '18']]\n",
    "print(len(links_grib), links_grib[0])\n",
    "grib_files_full_day = []\n",
    "for item in tqdm(links_grib, total=len(links_grib)):\n",
    "    print(item)\n",
    "    soup = get_files_grib(item)\n",
    "    # soup\n",
    "    gribs_link = [item + i['href'] for i in soup.find_all('a', href=True)][2:]\n",
    "    # gribs_link[0]\n",
    "    grib_files = []\n",
    "    for link in tqdm(gribs_link, total=len(gribs_link)):\n",
    "        filename = link.split('/')[-1].split('.')\n",
    "        if ('gfs' in filename) and (filename[2]=='pgrb2')\\\n",
    "            and (GRID_STEP in filename) and (len(filename)==5)\\\n",
    "                and (filename[-1].startswith('f')):\n",
    "            # print(link)\n",
    "            grib_files.append(link)\n",
    "    # len(grib_files), grib_files[0]\n",
    "    grib_files_full_day.append(grib_files[::SKIP])"
   ]
  },
  {
   "cell_type": "code",
   "execution_count": null,
   "metadata": {},
   "outputs": [],
   "source": [
    "# grib_files_full_day"
   ]
  },
  {
   "cell_type": "code",
   "execution_count": null,
   "metadata": {},
   "outputs": [],
   "source": [
    "import numpy as np\n",
    "grib_files_full_day = sorted(list(np.asarray(grib_files_full_day).ravel()))\n",
    "len(grib_files_full_day), grib_files_full_day[-1]"
   ]
  },
  {
   "cell_type": "code",
   "execution_count": null,
   "metadata": {},
   "outputs": [],
   "source": [
    "def download_file(url, path_out=''):\n",
    "    if path_out == '':\n",
    "        os.makedirs(f\"./tmp/{url.split('/')[-4].split('.')[-1]}/\", exist_ok=True)\n",
    "        local_filename = f\"./tmp/{url.split('/')[-4].split('.')[-1]}/\" + url.split('/')[-1]\n",
    "    else:\n",
    "        path_out = path_out + f\"{url.split('/')[-4].split('.')[-1]}/\"\n",
    "        os.makedirs(path_out, exist_ok=True)\n",
    "        local_filename = path_out + url.split('/')[-1]\n",
    "    ### NOTE the stream=True parameter below\n",
    "    with requests.get(url, stream=True) as r:\n",
    "        r.raise_for_status()\n",
    "        LEN_CONT = int(r.headers['Content-length'])\n",
    "        # print(LEN_CONT)\n",
    "        # CHUNK = int(int(r.headers['Content-length']) / 100)\n",
    "        CHUNK = 8192 * 2# 8192\n",
    "        with open(local_filename, 'wb') as f:\n",
    "            for chunk in tqdm(r.iter_content(chunk_size = CHUNK), total=int(LEN_CONT/CHUNK)): \n",
    "                f.write(chunk)\n",
    "        f.close()\n",
    "    # return local_filename"
   ]
  },
  {
   "cell_type": "code",
   "execution_count": null,
   "metadata": {},
   "outputs": [],
   "source": [
    "for name_grib in tqdm(grib_files_full_day[::10], total=len(grib_files_full_day[::10])):\n",
    "    print(name_grib)\n",
    "    local_filename = download_file(name_grib, path_out='/home/sergio/Habr_fl/DZHALIL_METEO/GRIBS/')"
   ]
  },
  {
   "cell_type": "code",
   "execution_count": null,
   "metadata": {},
   "outputs": [],
   "source": [
    "# ds = pygrib.open(\"./tmp/gfs.t00z.pgrb2.1p00.f000\")"
   ]
  }
 ],
 "metadata": {
  "kernelspec": {
   "display_name": "test_env",
   "language": "python",
   "name": "python3"
  },
  "language_info": {
   "codemirror_mode": {
    "name": "ipython",
    "version": 3
   },
   "file_extension": ".py",
   "mimetype": "text/x-python",
   "name": "python",
   "nbconvert_exporter": "python",
   "pygments_lexer": "ipython3",
   "version": "3.9.13"
  },
  "orig_nbformat": 4
 },
 "nbformat": 4,
 "nbformat_minor": 2
}
